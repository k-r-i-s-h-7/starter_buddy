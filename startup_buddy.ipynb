{
 "cells": [
  {
   "cell_type": "code",
   "execution_count": 15,
   "metadata": {},
   "outputs": [],
   "source": [
    "from langchain_groq import ChatGroq\n",
    "from langchain_core.prompts import ChatPromptTemplate\n",
    "from langchain_community.tools import ArxivQueryRun, WikipediaQueryRun, DuckDuckGoSearchResults\n",
    "search = DuckDuckGoSearchResults(name=\"search\") "
   ]
  },
  {
   "cell_type": "code",
   "execution_count": 16,
   "metadata": {},
   "outputs": [],
   "source": [
    "\n",
    "import os\n",
    "from dotenv import load_dotenv\n",
    "load_dotenv()\n",
    "os.environ[\"GROQ_API_KEY\"]=os.getenv(\"GROQ_API_KEY\")"
   ]
  },
  {
   "cell_type": "code",
   "execution_count": 17,
   "metadata": {},
   "outputs": [],
   "source": [
    "model = ChatGroq(model_name=\"llama-3.3-70b-versatile\")"
   ]
  },
  {
   "cell_type": "code",
   "execution_count": 18,
   "metadata": {},
   "outputs": [],
   "source": [
    "prompt = ChatPromptTemplate([\n",
    "    (\"system\",\"You are a startup assistant chatbot, answer the user wueries based on thorough research as per the requirements.\"),\n",
    "    (\"user\",\"{query}\"),\n",
    "])"
   ]
  },
  {
   "cell_type": "code",
   "execution_count": 19,
   "metadata": {},
   "outputs": [
    {
     "data": {
      "text/plain": [
       "AIMessage(content=\"I'd be delighted to help guide your startup journey. As a startup assistant chatbot, I can provide you with valuable information, insights, and resources to help you navigate the challenges of building and growing a successful startup.\\n\\nHere are some ways I can assist you:\\n\\n1. **Idea validation**: I can help you refine your startup idea, identify potential pitfalls, and provide feedback on your concept.\\n2. **Business planning**: I can guide you through the process of creating a solid business plan, including market research, competitive analysis, and financial projections.\\n3. **Market research**: I can provide you with access to market data, trends, and insights to help you understand your target audience and make informed decisions.\\n4. **Product development**: I can offer guidance on product development, including design, development, and testing.\\n5. **Funding and investment**: I can provide information on funding options, including venture capital, angel investors, crowdfunding, and more.\\n6. **Marketing and sales**: I can help you develop a marketing strategy, including social media, content marketing, and sales tactics.\\n7. **Networking and partnerships**: I can connect you with relevant resources, including mentors, advisors, and potential partners.\\n8. **Operations and management**: I can provide guidance on setting up and managing your startup's operations, including team building, HR, and finance.\\n\\nTo get started, please share some information about your startup, such as:\\n\\n1. What problem are you trying to solve?\\n2. What is your startup's mission and vision?\\n3. What stage are you currently at (idea, prototype, launch, growth)?\\n4. What are your biggest challenges and concerns?\\n\\nThe more information you provide, the better I can tailor my guidance to support your specific needs. Let's get started!\", additional_kwargs={}, response_metadata={'token_usage': {'completion_tokens': 362, 'prompt_tokens': 69, 'total_tokens': 431, 'completion_time': 1.316363636, 'prompt_time': 0.01381549, 'queue_time': 0.23383027899999997, 'total_time': 1.330179126}, 'model_name': 'llama-3.3-70b-versatile', 'system_fingerprint': 'fp_3884478861', 'finish_reason': 'stop', 'logprobs': None}, id='run-76663174-3859-4e81-afdd-53889fc5aa9d-0', usage_metadata={'input_tokens': 69, 'output_tokens': 362, 'total_tokens': 431})"
      ]
     },
     "execution_count": 19,
     "metadata": {},
     "output_type": "execute_result"
    }
   ],
   "source": [
    "chain = prompt | model\n",
    "chain.invoke(\"Can i use you to properly guide my startup journey?\")"
   ]
  },
  {
   "cell_type": "code",
   "execution_count": 20,
   "metadata": {},
   "outputs": [],
   "source": [
    "tools= [search]"
   ]
  },
  {
   "cell_type": "code",
   "execution_count": null,
   "metadata": {},
   "outputs": [],
   "source": []
  }
 ],
 "metadata": {
  "kernelspec": {
   "display_name": "base",
   "language": "python",
   "name": "python3"
  },
  "language_info": {
   "codemirror_mode": {
    "name": "ipython",
    "version": 3
   },
   "file_extension": ".py",
   "mimetype": "text/x-python",
   "name": "python",
   "nbconvert_exporter": "python",
   "pygments_lexer": "ipython3",
   "version": "3.12.7"
  }
 },
 "nbformat": 4,
 "nbformat_minor": 2
}
